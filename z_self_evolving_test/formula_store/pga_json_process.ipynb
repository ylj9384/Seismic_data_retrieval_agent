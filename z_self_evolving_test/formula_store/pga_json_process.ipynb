{
 "cells": [
  {
   "cell_type": "markdown",
   "id": "86afcfaa",
   "metadata": {},
   "source": [
    "#### 标准化加载所有公式（PGA+SA）"
   ]
  },
  {
   "cell_type": "code",
   "execution_count": null,
   "id": "13db625e",
   "metadata": {},
   "outputs": [
    {
     "name": "stdout",
     "output_type": "stream",
     "text": [
      "数据目录: D:\\LLM\\LangChain\\data_retrieval_agent\\z_self_evolving_test\n",
      "共加载公式 801 条\n"
     ]
    },
    {
     "data": {
      "text/plain": [
       "[{'id': 'PGA_1',\n",
       "  'model': 'PGA_1',\n",
       "  'type': 'PGA',\n",
       "  'period_s': 0.0,\n",
       "  'equation': 'a = c * exp(α*M) * R^(-β)',\n",
       "  'equation_skeleton': 'a = c * exp(α*M) * R^(-β)',\n",
       "  'coefficients': {'a': '峰值地面加速度，单位：cm/s²',\n",
       "   'c': '经验系数，取值2000',\n",
       "   'α': '震级影响系数，取值0.8',\n",
       "   'β': '距离衰减系数，取值2',\n",
       "   'M': '地震震级（未明确，默认M_s）',\n",
       "   'R': '震源距离（未明确，默认震中距）',\n",
       "   'σ': '标准差，未报告'},\n",
       "  'variables': {},\n",
       "  'reference': 'Esteva and Rosenblueth (1964)',\n",
       "  'notes': '首个经典PGA实证模型，基于早期强震记录，采用指数-幂次形式描述PGA与震级、距离的关系',\n",
       "  'output_unit': ''},\n",
       " {'id': 'PGA_2',\n",
       "  'model': 'PGA_2',\n",
       "  'type': 'PGA',\n",
       "  'period_s': 0.0,\n",
       "  'equation': 'a = (a₁ / √T_G) * 10^(a₂*M - P*log₁₀R + Q); P = a₃ + a₄ / R; Q = a₅ + a₆ / R',\n",
       "  'equation_skeleton': 'a = (a₁ / √T_G) * 10^(a₂*M - P*log₁₀R + Q)',\n",
       "  'coefficients': {'a': '峰值地面加速度，单位：cm/s²',\n",
       "   'a₁': '经验系数，取值5',\n",
       "   'a₂': '震级影响系数，取值0.61',\n",
       "   'a₃': '距离项系数1，取值1.66',\n",
       "   'a₄': '距离项系数2，取值3.60',\n",
       "   'a₅': '距离项系数3，取值0.167',\n",
       "   'a₆': '距离项系数4，取值-1.83',\n",
       "   'T_G': '场地固有周期，单位：s（需根据场地条件确定）',\n",
       "   'M': '地震震级（未明确，默认M_L）',\n",
       "   'R': '震源距离（未明确，默认震中距）',\n",
       "   'σ': '标准差，未报告'},\n",
       "  'variables': {},\n",
       "  'reference': 'Kanai (1966)',\n",
       "  'notes': '引入场地固有周期修正的PGA模型，距离项含非线性衰减（P、Q为距离依赖子项）',\n",
       "  'output_unit': ''}]"
      ]
     },
     "execution_count": 10,
     "metadata": {},
     "output_type": "execute_result"
    }
   ],
   "source": [
    "\n",
    "# 步骤1：标准化加载所有公式（递归 models）\n",
    "import json, pathlib, re\n",
    "\n",
    "BASE_DIR = pathlib.Path().resolve().parent\n",
    "print(f\"数据目录: {BASE_DIR}\")\n",
    "PGA_DIR = BASE_DIR / \"PGA\"\n",
    "SA_DIR  = BASE_DIR / \"Spectral_Ordinates\"\n",
    "NUM_RE = re.compile(r\"[-+]?\\\\d+(\\\\.\\\\d+)?([eE][-+]?\\\\d+)?\")\n",
    "\n",
    "def _iter_files():\n",
    "    for folder in (PGA_DIR, SA_DIR):\n",
    "        if not folder.exists():\n",
    "            continue\n",
    "        for f in sorted(folder.glob(\"*.json\")):\n",
    "            yield f\n",
    "\n",
    "def _read_json_file(fp):\n",
    "    try:\n",
    "        txt = fp.read_text(encoding=\"utf-8\")\n",
    "        data = json.loads(txt)\n",
    "        # 顶层是 dict，且有 models 列表\n",
    "        if isinstance(data, dict) and \"models\" in data and isinstance(data[\"models\"], list):\n",
    "            for obj in data[\"models\"]:\n",
    "                if isinstance(obj, dict):\n",
    "                    yield obj\n",
    "        # 顶层直接是公式对象\n",
    "        elif isinstance(data, dict):\n",
    "            yield data\n",
    "        elif isinstance(data, list):\n",
    "            for obj in data:\n",
    "                if isinstance(obj, dict):\n",
    "                    yield obj\n",
    "    except Exception:\n",
    "        return\n",
    "\n",
    "def _skeleton(eq: str) -> str:\n",
    "    if not eq: return \"\"\n",
    "    eq = eq.strip()\n",
    "    eq = NUM_RE.sub(\"C\", eq)\n",
    "    return re.sub(r\"\\\\s+\", \" \", eq)\n",
    "\n",
    "def normalize(raw):\n",
    "    model = raw.get(\"model\") or raw.get(\"Model\") or raw.get(\"name\") or raw.get(\"model_id\")\n",
    "    eq = raw.get(\"equation\") or raw.get(\"formula\")\n",
    "    coeffs = raw.get(\"coefficients\") or raw.get(\"coeffs\") or {}\n",
    "    # 兼容参数字段\n",
    "    if not coeffs and \"parameters\" in raw and isinstance(raw[\"parameters\"], dict):\n",
    "        coeffs = raw[\"parameters\"]\n",
    "    ftype = (raw.get(\"type\") or \"PGA\").upper()\n",
    "    try:\n",
    "        period = float(raw.get(\"period_s\", 0.0))\n",
    "    except Exception:\n",
    "        period = 0.0\n",
    "    rid = raw.get(\"id\") or raw.get(\"model_id\") or f\"{model}_{ftype}_{period}\"\n",
    "    variables = raw.get(\"variables\", {})\n",
    "    # === 关键：把所有需要的字段都保留 ===\n",
    "    record = {\n",
    "        \"id\": rid,\n",
    "        \"model\": model,\n",
    "        \"model_id\": raw.get(\"model_id\", \"\"),\n",
    "        \"author_year\": raw.get(\"author_year\", \"\"),\n",
    "        \"equation\": eq if isinstance(eq, str) else \"; \".join(eq) if isinstance(eq, list) else str(eq),\n",
    "        \"equation_desc\": raw.get(\"equation_desc\", \"\"),\n",
    "        \"application_scope\": raw.get(\"application_scope\", \"\"),\n",
    "        \"parameters\": raw.get(\"parameters\", {}),\n",
    "        \"type\": ftype,\n",
    "        \"period_s\": period,\n",
    "        \"equation_skeleton\": _skeleton(eq if isinstance(eq, str) else eq[0] if isinstance(eq, list) else str(eq)),\n",
    "        \"coefficients\": coeffs,\n",
    "        \"variables\": variables,\n",
    "        \"reference\": raw.get(\"reference\", \"\") or raw.get(\"author_year\", \"\"),\n",
    "        \"notes\": raw.get(\"notes\", \"\") or raw.get(\"equation_desc\", \"\"),\n",
    "        \"output_unit\": raw.get(\"output_unit\", \"\")\n",
    "    }\n",
    "    return record\n",
    "\n",
    "def load_all():\n",
    "    out = []\n",
    "    for fp in _iter_files():\n",
    "        for obj in _read_json_file(fp):\n",
    "            rec = normalize(obj)\n",
    "            if rec:\n",
    "                out.append(rec)\n",
    "    print(f\"共加载公式 {len(out)} 条\")\n",
    "    return out\n",
    "\n",
    "formula_records = load_all()\n",
    "formula_records[:2]  # 查看前两条"
   ]
  },
  {
   "cell_type": "markdown",
   "id": "9b397f5f",
   "metadata": {},
   "source": [
    "#### 构建 embedding 文本"
   ]
  },
  {
   "cell_type": "code",
   "execution_count": 27,
   "id": "774fc9be",
   "metadata": {},
   "outputs": [
    {
     "name": "stdout",
     "output_type": "stream",
     "text": [
      "model_id= author_year= equation_desc= application_scope= equation=a = c * exp(α*M) * R^(-β) parameters=\n",
      "model_id= author_year= equation_desc= application_scope= equation=a = (a₁ / √T_G) * 10^(a₂*M - P*log₁₀R + Q); P = a₃ + a₄ / R; Q = a₅ + a₆ / R parameters=\n"
     ]
    }
   ],
   "source": [
    "# 步骤2：构建 embedding 文本\n",
    "def build_embedding_text(rec):\n",
    "    # 参数名与含义拼接\n",
    "    param_str = \"\"\n",
    "    params = rec.get(\"parameters\", {})\n",
    "    if isinstance(params, dict):\n",
    "        param_str = \" \".join([f\"{k}:{v}\" for k, v in params.items()])\n",
    "    # 其他关键信息拼接\n",
    "    return (\n",
    "        f\"model_id={rec.get('model_id','')} \"\n",
    "        f\"author_year={rec.get('author_year','')} \"\n",
    "        f\"equation_desc={rec.get('equation_desc','')} \"\n",
    "        f\"application_scope={rec.get('application_scope','')} \"\n",
    "        f\"equation={rec.get('equation','')} \"\n",
    "        f\"parameters={param_str}\"\n",
    "    )\n",
    "\n",
    "embedding_texts = [build_embedding_text(r) for r in formula_records]\n",
    "for t in embedding_texts[:2]:\n",
    "    print(t)"
   ]
  },
  {
   "cell_type": "markdown",
   "id": "120eeacd",
   "metadata": {},
   "source": [
    "#### 生成向量"
   ]
  },
  {
   "cell_type": "code",
   "execution_count": 22,
   "id": "cf6805b6",
   "metadata": {},
   "outputs": [
    {
     "name": "stdout",
     "output_type": "stream",
     "text": [
      "向量 shape: (801, 1536)\n"
     ]
    }
   ],
   "source": [
    "# 步骤3：生成向量（用 Qwen embedding）\n",
    "import dashscope\n",
    "import numpy as np\n",
    "import time\n",
    "import os\n",
    "\n",
    "EMBED_DIM = 1536  # Qwen embedding 默认维度\n",
    "\n",
    "try:\n",
    "    import dashscope\n",
    "    from dotenv import load_dotenv\n",
    "    load_dotenv()\n",
    "    DASHSCOPE_API_KEY = os.getenv(\"DASHSCOPE_API_KEY\")\n",
    "    if DASHSCOPE_API_KEY:\n",
    "        dashscope.api_key = DASHSCOPE_API_KEY\n",
    "except ImportError:\n",
    "    dashscope = None\n",
    "    DASHSCOPE_API_KEY = None\n",
    "\n",
    "def qwen_embedding(text, model=\"text-embedding-v1\"):\n",
    "    dashscope.api_key = DASHSCOPE_API_KEY\n",
    "    # Qwen API 支持批量，但这里单条\n",
    "    rsp = dashscope.TextEmbedding.call(model=model, input=text)\n",
    "    if rsp.status_code == 200:\n",
    "        return rsp.output[\"embeddings\"][0][\"embedding\"]\n",
    "    else:\n",
    "        print(\"Qwen embedding error:\", rsp.message)\n",
    "        return [0.0] * EMBED_DIM\n",
    "\n",
    "# 批量生成（如有速率限制可加 sleep）\n",
    "embeddings = []\n",
    "for t in embedding_texts:\n",
    "    emb = qwen_embedding(t)\n",
    "    embeddings.append(emb)\n",
    "    time.sleep(0.2)  # 避免QPS超限\n",
    "embeddings = np.array(embeddings, dtype=\"float32\")\n",
    "print(\"向量 shape:\", embeddings.shape)"
   ]
  },
  {
   "cell_type": "markdown",
   "id": "0c21e611",
   "metadata": {},
   "source": [
    "#### 构建 FAISS 索引并保存元数据"
   ]
  },
  {
   "cell_type": "code",
   "execution_count": 23,
   "id": "78826ab6",
   "metadata": {},
   "outputs": [
    {
     "name": "stdout",
     "output_type": "stream",
     "text": [
      "已写入索引: pga_formula_index.faiss\n",
      "已写入元数据: pga_formula_meta.jsonl\n"
     ]
    }
   ],
   "source": [
    "# 步骤4：构建 FAISS 索引并保存元数据\n",
    "import faiss, os\n",
    "\n",
    "INDEX_FILE = \"pga_formula_index.faiss\"\n",
    "META_FILE = \"pga_formula_meta.jsonl\"\n",
    "\n",
    "index = faiss.IndexFlatL2(EMBED_DIM)\n",
    "index.add(embeddings)\n",
    "faiss.write_index(index, INDEX_FILE)\n",
    "print(\"已写入索引:\", INDEX_FILE)\n",
    "\n",
    "with open(META_FILE, \"w\", encoding=\"utf-8\") as f:\n",
    "    for rec in formula_records:\n",
    "        f.write(json.dumps(rec, ensure_ascii=False) + \"\\n\")\n",
    "print(\"已写入元数据:\", META_FILE)"
   ]
  },
  {
   "cell_type": "markdown",
   "id": "0c474c1d",
   "metadata": {},
   "source": [
    "#### RAG 检索函数"
   ]
  },
  {
   "cell_type": "code",
   "execution_count": 24,
   "id": "7e753dac",
   "metadata": {},
   "outputs": [
    {
     "name": "stdout",
     "output_type": "stream",
     "text": [
      "Top1: dist=6586.401 model=PGA_21 eq=\\overline{a} = a₁ \\overline{R}^{a₂} exp(a₃ M)\n",
      "Top2: dist=6626.491 model=Spectral_097 eq=地壳地震：ln SA'(T) = C₁(T) + C₄AS*(M - 6) + C₃AS(T)*(8\n",
      "Top3: dist=6718.464 model=Spectral_057 eq=ln[y(f)] = C₁ + C₂*(M - 6) + C₃*(M - 6)² + C₄*lnR \n"
     ]
    }
   ],
   "source": [
    "# 步骤5：RAG 检索函数\n",
    "def search_formula(query, topk=3):\n",
    "    # 使用与索引相同的 embedding 方法\n",
    "    q_emb = np.array(qwen_embedding(query), dtype=\"float32\").reshape(1, -1)\n",
    "    D, I = index.search(q_emb, topk)\n",
    "    results = []\n",
    "    with open(META_FILE, \"r\", encoding=\"utf-8\") as f:\n",
    "        meta = [json.loads(line) for line in f]\n",
    "    for idx, dist in zip(I[0], D[0]):\n",
    "        if idx < 0 or idx >= len(meta): continue\n",
    "        rec = meta[idx]\n",
    "        results.append({\"dist\": float(dist), \"record\": rec})\n",
    "    return results\n",
    "\n",
    "# 示例\n",
    "query = \"地震动峰值加速度的经验公式\"\n",
    "hits = search_formula(query, topk=3)\n",
    "for i, hit in enumerate(hits, 1):\n",
    "    print(f\"Top{i}: dist={hit['dist']:.3f} model={hit['record']['model']} eq={hit['record']['equation'][:50]}\")"
   ]
  },
  {
   "cell_type": "markdown",
   "id": "9b5ff316",
   "metadata": {},
   "source": [
    "#### RAG生成（拼接检索结果，供LLM生成答案）"
   ]
  },
  {
   "cell_type": "code",
   "execution_count": 25,
   "id": "412261bb",
   "metadata": {},
   "outputs": [
    {
     "name": "stdout",
     "output_type": "stream",
     "text": [
      "RAG上下文：\n",
      " 【模型】PGA_21【类型】PGA【公式】\\overline{a} = a₁ \\overline{R}^{a₂} exp(a₃ M)\n",
      "【参考】Ambraseys (1978b)\n",
      "\n",
      "【模型】Spectral_097【类型】PGA【公式】地壳地震：ln SA'(T) = C₁(T) + C₄AS*(M - 6) + C₃AS(T)*(8.5 - M)² + C₅(T)*r + (C₈(T) + C₆AS*(M - 6))*ln[√(r² + C₁0AS²(T))] + C₄6(T)*r_VOL + {C₂(T)*r + C₄4(T) + (C₉(T) + C₇(T)*(M - 6))*(ln[√(r² + C₁0AS²(T))] - ln C₁0AS)} + {C₂9(T)} + {C₃0AS(T)*ln(PGA_WA' + 0.03) + C₄3(T)} + C₃2*CN + C₃3AS(T)*CR + 悬挂墙项（参考Section 4.79）; 俯冲带地震：ln SA'(T) = C₁1(T) + [C₁2Y + (C₁7Y(T) - C₁7(T))*C₁9Y] + C₁3Y(T)*(10 - M)³ + C₁7(T)*ln[r + C₁8Y*exp(C₁9Y*M)] + C₂0(T)*H_C + C₂4(T)*SI + C₄6(T)*r_VOL*(1 - DS) + {C₄4(T) + C₁6(T)*(ln[r + C₁8Y*exp(C₁9Y*M)] - ln[C₁8Y*exp(C₁9Y*M)])} + {C₂9(T)} + {C₃0Y(T)*ln(PGA_WA' + 0.03) + C₄3(T)}\n",
      "【参考】McVerry et al. (2000)\n"
     ]
    }
   ],
   "source": [
    "# 步骤6：RAG生成（拼接检索结果，供LLM生成答案）\n",
    "def build_rag_context(query, topk=3):\n",
    "    hits = search_formula(query, topk=topk)\n",
    "    context = \"\\n\\n\".join(\n",
    "        f\"【模型】{h['record']['model']}【类型】{h['record']['type']}【公式】{h['record']['equation']}\\n【参考】{h['record']['reference']}\"\n",
    "        for h in hits\n",
    "    )\n",
    "    return context\n",
    "\n",
    "# 示例\n",
    "rag_context = build_rag_context(\"地震动峰值加速度的经验公式\", topk=2)\n",
    "print(\"RAG上下文：\\n\", rag_context)"
   ]
  }
 ],
 "metadata": {
  "kernelspec": {
   "display_name": ".conda",
   "language": "python",
   "name": "python3"
  },
  "language_info": {
   "codemirror_mode": {
    "name": "ipython",
    "version": 3
   },
   "file_extension": ".py",
   "mimetype": "text/x-python",
   "name": "python",
   "nbconvert_exporter": "python",
   "pygments_lexer": "ipython3",
   "version": "3.11.13"
  }
 },
 "nbformat": 4,
 "nbformat_minor": 5
}
